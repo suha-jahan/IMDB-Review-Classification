{
  "nbformat": 4,
  "nbformat_minor": 0,
  "metadata": {
    "colab": {
      "provenance": []
    },
    "kernelspec": {
      "name": "python3",
      "display_name": "Python 3"
    },
    "language_info": {
      "name": "python"
    }
  },
  "cells": [
    {
      "cell_type": "code",
      "source": [
        "!gdown --id 1egcloERTpWn8pYfVF05_ne1UfXRkVUHx"
      ],
      "metadata": {
        "colab": {
          "base_uri": "https://localhost:8080/"
        },
        "id": "RLVa3i7I2J2F",
        "outputId": "196d02c1-d294-4c20-f7d2-e9b0c94c0008"
      },
      "execution_count": null,
      "outputs": [
        {
          "output_type": "stream",
          "name": "stdout",
          "text": [
            "/usr/local/lib/python3.10/dist-packages/gdown/cli.py:121: FutureWarning: Option `--id` was deprecated in version 4.3.1 and will be removed in 5.0. You don't need to pass it anymore to use a file ID.\n",
            "  warnings.warn(\n",
            "Downloading...\n",
            "From: https://drive.google.com/uc?id=1egcloERTpWn8pYfVF05_ne1UfXRkVUHx\n",
            "To: /content/IMDB_Dataset.csv\n",
            "100% 66.2M/66.2M [00:00<00:00, 118MB/s]\n"
          ]
        }
      ]
    },
    {
      "cell_type": "code",
      "source": [
        "!gdown --id 1p5BnUMZNvNTFuS7cvOc3sQOUvLM9g3kh"
      ],
      "metadata": {
        "colab": {
          "base_uri": "https://localhost:8080/"
        },
        "id": "NWnmNWDT2w_L",
        "outputId": "813fd7b4-b290-4d85-be1a-2146679e20c2"
      },
      "execution_count": null,
      "outputs": [
        {
          "output_type": "stream",
          "name": "stdout",
          "text": [
            "/usr/local/lib/python3.10/dist-packages/gdown/cli.py:121: FutureWarning: Option `--id` was deprecated in version 4.3.1 and will be removed in 5.0. You don't need to pass it anymore to use a file ID.\n",
            "  warnings.warn(\n",
            "Downloading...\n",
            "From: https://drive.google.com/uc?id=1p5BnUMZNvNTFuS7cvOc3sQOUvLM9g3kh\n",
            "To: /content/glove.6B.100d.txt\n",
            "100% 347M/347M [00:02<00:00, 146MB/s]\n"
          ]
        }
      ]
    },
    {
      "cell_type": "code",
      "source": [
        "import pandas as pd\n",
        "\n",
        "\n",
        "df = pd.read_csv('/content/IMDB_Dataset.csv')\n",
        "\n",
        "\n",
        "print(df.head())\n"
      ],
      "metadata": {
        "colab": {
          "base_uri": "https://localhost:8080/"
        },
        "id": "7-URBoGxrFKo",
        "outputId": "1a2e652e-517b-4485-eb42-43db33df04d2"
      },
      "execution_count": null,
      "outputs": [
        {
          "output_type": "stream",
          "name": "stdout",
          "text": [
            "                                              review sentiment\n",
            "0  One of the other reviewers has mentioned that ...  positive\n",
            "1  A wonderful little production. <br /><br />The...  positive\n",
            "2  I thought this was a wonderful way to spend ti...  positive\n",
            "3  Basically there's a family where a little boy ...  negative\n",
            "4  Petter Mattei's \"Love in the Time of Money\" is...  positive\n"
          ]
        }
      ]
    },
    {
      "cell_type": "code",
      "source": [
        "import nltk\n",
        "from nltk.corpus import stopwords\n",
        "import string\n",
        "from sklearn.model_selection import train_test_split\n",
        "from keras.preprocessing.text import Tokenizer\n",
        "from keras.preprocessing.sequence import pad_sequences\n",
        "from keras.models import Sequential\n",
        "from keras.layers import Embedding, Dense, LSTM, Bidirectional\n",
        "\n",
        "\n",
        "\n",
        "nltk.download('stopwords')\n",
        "stop_words = set(stopwords.words('english'))\n",
        "\n",
        "def preprocess_text(text):\n",
        "    # We Converted it to lowercase\n",
        "    text = text.lower()\n",
        "\n",
        "    # We Removed punctuation\n",
        "    text = ''.join([char for char in text if char not in string.punctuation])\n",
        "\n",
        "    # We Removed stopwords\n",
        "    words = text.split()\n",
        "    words = [word for word in words if word.lower() not in stop_words]\n",
        "\n",
        "    # We Joined the words back into a sentence\n",
        "    processed_text = ' '.join(words)\n",
        "\n",
        "    return processed_text\n",
        "\n",
        "# We applied preprocessing to the 'review' column\n",
        "df['review'] = df['review'].apply(preprocess_text)"
      ],
      "metadata": {
        "colab": {
          "base_uri": "https://localhost:8080/"
        },
        "id": "KA7dY8UzBhjQ",
        "outputId": "4b29b872-df38-47aa-de80-b89bc2846cb7"
      },
      "execution_count": null,
      "outputs": [
        {
          "output_type": "stream",
          "name": "stderr",
          "text": [
            "[nltk_data] Downloading package stopwords to /root/nltk_data...\n",
            "[nltk_data]   Unzipping corpora/stopwords.zip.\n"
          ]
        }
      ]
    },
    {
      "cell_type": "code",
      "source": [
        "\n",
        "import numpy as np\n",
        "\n",
        "\n",
        "embeddings_index = {}\n",
        "with open('/content/glove.6B.100d.txt', encoding='utf-8') as f:\n",
        "    for line in f:\n",
        "        values = line.split()\n",
        "        word = values[0]\n",
        "        coefs = np.asarray(values[1:], dtype='float32')\n",
        "        embeddings_index[word] = coefs\n",
        "\n",
        "\n",
        "tokenizer = Tokenizer()\n",
        "tokenizer.fit_on_texts(df['review'])\n",
        "sequences = tokenizer.texts_to_sequences(df['review'])\n",
        "\n",
        "max_length = 256\n",
        "X = pad_sequences(sequences, maxlen=max_length)\n",
        "\n",
        "\n",
        "word_index = tokenizer.word_index\n",
        "num_words = len(word_index) + 1\n",
        "embedding_matrix = np.zeros((num_words, 100))\n",
        "\n",
        "for word, i in word_index.items():\n",
        "    if i < num_words:\n",
        "        embedding_vector = embeddings_index.get(word)\n",
        "        if embedding_vector is not None:\n",
        "            embedding_matrix[i] = embedding_vector\n"
      ],
      "metadata": {
        "id": "FWEPf7cxrUNp"
      },
      "execution_count": null,
      "outputs": []
    },
    {
      "cell_type": "code",
      "source": [
        "\n",
        "X_train, X_test, y_train, y_test = train_test_split(X, df['sentiment'], test_size=0.2, random_state=42)\n"
      ],
      "metadata": {
        "id": "P4ozuwO9sKHm"
      },
      "execution_count": null,
      "outputs": []
    },
    {
      "cell_type": "code",
      "source": [
        "\n",
        "\n",
        "#Trying to play with hyperparameters like changing batch size using Baseline model\n",
        "model_baseline = Sequential()\n",
        "model_baseline.add(Embedding(num_words, 100, input_length=max_length, weights=[embedding_matrix], trainable=False))\n",
        "model_baseline.add(Dense(10, activation='relu'))\n",
        "model_baseline.add(Dense(1, activation='sigmoid'))\n",
        "\n",
        "model_baseline.compile(optimizer='adam', loss='binary_crossentropy', metrics=['accuracy'])\n",
        "\n",
        "# Converting y to numeric data\n",
        "y_train_numeric = (y_train == 'positive').astype(float)\n",
        "y_test_numeric = (y_test == 'positive').astype(float)\n",
        "model_baseline.fit(X_train, y_train_numeric, epochs=20, batch_size=32, validation_data=(X_test, y_test_numeric))\n"
      ],
      "metadata": {
        "colab": {
          "base_uri": "https://localhost:8080/"
        },
        "id": "zjET6SVYsXDm",
        "outputId": "461e20a2-456b-442e-bb4b-ca3d585cf325"
      },
      "execution_count": null,
      "outputs": [
        {
          "output_type": "stream",
          "name": "stdout",
          "text": [
            "Epoch 1/20\n",
            "1250/1250 [==============================] - 23s 16ms/step - loss: 0.6900 - accuracy: 0.5189 - val_loss: 0.6879 - val_accuracy: 0.5267\n",
            "Epoch 2/20\n",
            "1250/1250 [==============================] - 10s 8ms/step - loss: 0.6875 - accuracy: 0.5279 - val_loss: 0.6873 - val_accuracy: 0.5281\n",
            "Epoch 3/20\n",
            "1250/1250 [==============================] - 10s 8ms/step - loss: 0.6872 - accuracy: 0.5244 - val_loss: 0.6869 - val_accuracy: 0.5248\n",
            "Epoch 4/20\n",
            "1250/1250 [==============================] - 9s 8ms/step - loss: 0.6868 - accuracy: 0.5264 - val_loss: 0.6867 - val_accuracy: 0.5255\n",
            "Epoch 5/20\n",
            "1250/1250 [==============================] - 9s 7ms/step - loss: 0.6866 - accuracy: 0.5269 - val_loss: 0.6863 - val_accuracy: 0.5264\n",
            "Epoch 6/20\n",
            "1250/1250 [==============================] - 10s 8ms/step - loss: 0.6866 - accuracy: 0.5271 - val_loss: 0.6863 - val_accuracy: 0.5265\n",
            "Epoch 7/20\n",
            "1250/1250 [==============================] - 8s 7ms/step - loss: 0.6864 - accuracy: 0.5290 - val_loss: 0.6862 - val_accuracy: 0.5267\n",
            "Epoch 8/20\n",
            "1250/1250 [==============================] - 10s 8ms/step - loss: 0.6863 - accuracy: 0.5290 - val_loss: 0.6867 - val_accuracy: 0.5250\n",
            "Epoch 9/20\n",
            "1250/1250 [==============================] - 12s 10ms/step - loss: 0.6862 - accuracy: 0.5306 - val_loss: 0.6860 - val_accuracy: 0.5312\n",
            "Epoch 10/20\n",
            "1250/1250 [==============================] - 9s 7ms/step - loss: 0.6862 - accuracy: 0.5293 - val_loss: 0.6860 - val_accuracy: 0.5267\n",
            "Epoch 11/20\n",
            "1250/1250 [==============================] - 11s 9ms/step - loss: 0.6862 - accuracy: 0.5265 - val_loss: 0.6861 - val_accuracy: 0.5266\n",
            "Epoch 12/20\n",
            "1250/1250 [==============================] - 8s 7ms/step - loss: 0.6861 - accuracy: 0.5282 - val_loss: 0.6861 - val_accuracy: 0.5307\n",
            "Epoch 13/20\n",
            "1250/1250 [==============================] - 10s 8ms/step - loss: 0.6861 - accuracy: 0.5273 - val_loss: 0.6860 - val_accuracy: 0.5270\n",
            "Epoch 14/20\n",
            "1250/1250 [==============================] - 10s 8ms/step - loss: 0.6860 - accuracy: 0.5276 - val_loss: 0.6860 - val_accuracy: 0.5268\n",
            "Epoch 15/20\n",
            "1250/1250 [==============================] - 8s 7ms/step - loss: 0.6861 - accuracy: 0.5305 - val_loss: 0.6860 - val_accuracy: 0.5270\n",
            "Epoch 16/20\n",
            "1250/1250 [==============================] - 10s 8ms/step - loss: 0.6860 - accuracy: 0.5299 - val_loss: 0.6861 - val_accuracy: 0.5266\n",
            "Epoch 17/20\n",
            "1250/1250 [==============================] - 9s 7ms/step - loss: 0.6860 - accuracy: 0.5281 - val_loss: 0.6862 - val_accuracy: 0.5268\n",
            "Epoch 18/20\n",
            "1250/1250 [==============================] - 9s 7ms/step - loss: 0.6860 - accuracy: 0.5301 - val_loss: 0.6859 - val_accuracy: 0.5272\n",
            "Epoch 19/20\n",
            "1250/1250 [==============================] - 10s 8ms/step - loss: 0.6860 - accuracy: 0.5279 - val_loss: 0.6859 - val_accuracy: 0.5271\n",
            "Epoch 20/20\n",
            "1250/1250 [==============================] - 8s 7ms/step - loss: 0.6859 - accuracy: 0.5296 - val_loss: 0.6859 - val_accuracy: 0.5272\n"
          ]
        },
        {
          "output_type": "execute_result",
          "data": {
            "text/plain": [
              "<keras.src.callbacks.History at 0x79b72c9dbca0>"
            ]
          },
          "metadata": {},
          "execution_count": 10
        }
      ]
    },
    {
      "cell_type": "code",
      "source": [
        "loss_baseline, accuracy_baseline = model_baseline.evaluate(X_test, y_test_numeric)\n",
        "print(f'Baseline Model - Accuracy: {accuracy_baseline*100:.2f}%')"
      ],
      "metadata": {
        "colab": {
          "base_uri": "https://localhost:8080/"
        },
        "id": "PX3_gaTBubfD",
        "outputId": "3b0955c4-a3e2-4bd5-d7f8-7229e8793815"
      },
      "execution_count": null,
      "outputs": [
        {
          "output_type": "stream",
          "name": "stdout",
          "text": [
            "313/313 [==============================] - 2s 6ms/step - loss: 0.6859 - accuracy: 0.5272\n",
            "Baseline Model - Accuracy: 52.72%\n"
          ]
        }
      ]
    },
    {
      "cell_type": "code",
      "source": [
        "# Shallow model\n",
        "model_shallow = Sequential()\n",
        "model_shallow.add(Embedding(num_words, 100, input_length=max_length, weights=[embedding_matrix], trainable=False))\n",
        "model_shallow.add(Dense(10, activation='relu'))\n",
        "model_shallow.add(Dense(1, activation='sigmoid'))\n",
        "\n",
        "model_shallow.compile(optimizer='adam', loss='binary_crossentropy', metrics=['accuracy'])\n",
        "\n",
        "model_shallow.fit(X_train, y_train_numeric , epochs=20, batch_size=32, validation_split = 0.2)\n"
      ],
      "metadata": {
        "colab": {
          "base_uri": "https://localhost:8080/"
        },
        "id": "HfKY77qrujaL",
        "outputId": "6ca9341d-4607-4ed8-bc21-99759259232f"
      },
      "execution_count": null,
      "outputs": [
        {
          "output_type": "stream",
          "name": "stdout",
          "text": [
            "Epoch 1/20\n",
            "1000/1000 [==============================] - 9s 8ms/step - loss: 0.6908 - accuracy: 0.5175 - val_loss: 0.6881 - val_accuracy: 0.5220\n",
            "Epoch 2/20\n",
            "1000/1000 [==============================] - 8s 8ms/step - loss: 0.6877 - accuracy: 0.5250 - val_loss: 0.6877 - val_accuracy: 0.5266\n",
            "Epoch 3/20\n",
            "1000/1000 [==============================] - 9s 9ms/step - loss: 0.6872 - accuracy: 0.5271 - val_loss: 0.6870 - val_accuracy: 0.5253\n",
            "Epoch 4/20\n",
            "1000/1000 [==============================] - 7s 7ms/step - loss: 0.6870 - accuracy: 0.5264 - val_loss: 0.6867 - val_accuracy: 0.5288\n",
            "Epoch 5/20\n",
            "1000/1000 [==============================] - 9s 9ms/step - loss: 0.6868 - accuracy: 0.5250 - val_loss: 0.6869 - val_accuracy: 0.5250\n",
            "Epoch 6/20\n",
            "1000/1000 [==============================] - 7s 7ms/step - loss: 0.6866 - accuracy: 0.5264 - val_loss: 0.6865 - val_accuracy: 0.5299\n",
            "Epoch 7/20\n",
            "1000/1000 [==============================] - 10s 10ms/step - loss: 0.6865 - accuracy: 0.5277 - val_loss: 0.6865 - val_accuracy: 0.5262\n",
            "Epoch 8/20\n",
            "1000/1000 [==============================] - 8s 8ms/step - loss: 0.6864 - accuracy: 0.5299 - val_loss: 0.6866 - val_accuracy: 0.5295\n",
            "Epoch 9/20\n",
            "1000/1000 [==============================] - 9s 9ms/step - loss: 0.6864 - accuracy: 0.5269 - val_loss: 0.6865 - val_accuracy: 0.5295\n",
            "Epoch 10/20\n",
            "1000/1000 [==============================] - 6s 6ms/step - loss: 0.6863 - accuracy: 0.5272 - val_loss: 0.6862 - val_accuracy: 0.5306\n",
            "Epoch 11/20\n",
            "1000/1000 [==============================] - 9s 9ms/step - loss: 0.6862 - accuracy: 0.5293 - val_loss: 0.6871 - val_accuracy: 0.5275\n",
            "Epoch 12/20\n",
            "1000/1000 [==============================] - 6s 6ms/step - loss: 0.6862 - accuracy: 0.5276 - val_loss: 0.6862 - val_accuracy: 0.5301\n",
            "Epoch 13/20\n",
            "1000/1000 [==============================] - 8s 8ms/step - loss: 0.6861 - accuracy: 0.5283 - val_loss: 0.6863 - val_accuracy: 0.5264\n",
            "Epoch 14/20\n",
            "1000/1000 [==============================] - 7s 7ms/step - loss: 0.6861 - accuracy: 0.5281 - val_loss: 0.6861 - val_accuracy: 0.5304\n",
            "Epoch 15/20\n",
            "1000/1000 [==============================] - 9s 9ms/step - loss: 0.6862 - accuracy: 0.5274 - val_loss: 0.6864 - val_accuracy: 0.5296\n",
            "Epoch 16/20\n",
            "1000/1000 [==============================] - 7s 7ms/step - loss: 0.6861 - accuracy: 0.5273 - val_loss: 0.6860 - val_accuracy: 0.5274\n",
            "Epoch 17/20\n",
            "1000/1000 [==============================] - 9s 9ms/step - loss: 0.6861 - accuracy: 0.5284 - val_loss: 0.6861 - val_accuracy: 0.5302\n",
            "Epoch 18/20\n",
            "1000/1000 [==============================] - 14s 14ms/step - loss: 0.6860 - accuracy: 0.5305 - val_loss: 0.6860 - val_accuracy: 0.5275\n",
            "Epoch 19/20\n",
            "1000/1000 [==============================] - 10s 10ms/step - loss: 0.6860 - accuracy: 0.5257 - val_loss: 0.6860 - val_accuracy: 0.5307\n",
            "Epoch 20/20\n",
            "1000/1000 [==============================] - 9s 9ms/step - loss: 0.6860 - accuracy: 0.5290 - val_loss: 0.6861 - val_accuracy: 0.5303\n"
          ]
        },
        {
          "output_type": "execute_result",
          "data": {
            "text/plain": [
              "<keras.src.callbacks.History at 0x79b72b629930>"
            ]
          },
          "metadata": {},
          "execution_count": 12
        }
      ]
    },
    {
      "cell_type": "code",
      "source": [
        "loss_shallow, accuracy_shallow = model_shallow.evaluate(X_test, y_test_numeric)\n",
        "print(f'Shallow Model - Accuracy: {accuracy_shallow*100:.2f}%')"
      ],
      "metadata": {
        "colab": {
          "base_uri": "https://localhost:8080/"
        },
        "id": "sDdJ7GWzxClb",
        "outputId": "0a22055a-ea76-4ade-a27c-612539b5acd0"
      },
      "execution_count": null,
      "outputs": [
        {
          "output_type": "stream",
          "name": "stdout",
          "text": [
            "313/313 [==============================] - 2s 4ms/step - loss: 0.6861 - accuracy: 0.5270\n",
            "Shallow Model - Accuracy: 52.70%\n"
          ]
        }
      ]
    },
    {
      "cell_type": "code",
      "source": [
        "model_lstm_uni = Sequential()\n",
        "model_lstm_uni.add(Embedding(num_words, 100, input_length=max_length, weights=[embedding_matrix], trainable=False))\n",
        "model_lstm_uni.add(LSTM(10, activation='relu'))\n",
        "model_lstm_uni.add(Dense(1, activation='sigmoid'))\n",
        "\n",
        "model_lstm_uni.compile(optimizer='adam', loss='binary_crossentropy', metrics=['accuracy'])\n",
        "model_lstm_uni.fit(X_train, y_train_numeric, epochs=20, batch_size=32,validation_split = 0.2)"
      ],
      "metadata": {
        "colab": {
          "base_uri": "https://localhost:8080/"
        },
        "id": "tyLbVXiBxr_p",
        "outputId": "d4ff98a9-a7b0-4b97-c4b5-a37864948ccd"
      },
      "execution_count": null,
      "outputs": [
        {
          "output_type": "stream",
          "name": "stdout",
          "text": [
            "Epoch 1/20\n",
            "1000/1000 [==============================] - 71s 69ms/step - loss: 0.7413 - accuracy: 0.6025 - val_loss: 0.6358 - val_accuracy: 0.6501\n",
            "Epoch 2/20\n",
            "1000/1000 [==============================] - 63s 63ms/step - loss: 0.5775 - accuracy: 0.7041 - val_loss: 0.5015 - val_accuracy: 0.7729\n",
            "Epoch 3/20\n",
            "1000/1000 [==============================] - 66s 66ms/step - loss: 0.4551 - accuracy: 0.7929 - val_loss: 0.4308 - val_accuracy: 0.8074\n",
            "Epoch 4/20\n",
            "1000/1000 [==============================] - 63s 63ms/step - loss: 0.4082 - accuracy: 0.8181 - val_loss: 0.4024 - val_accuracy: 0.8210\n",
            "Epoch 5/20\n",
            "1000/1000 [==============================] - 68s 68ms/step - loss: 0.3794 - accuracy: 0.8333 - val_loss: 0.3674 - val_accuracy: 0.8391\n",
            "Epoch 6/20\n",
            "1000/1000 [==============================] - 64s 64ms/step - loss: 0.3563 - accuracy: 0.8464 - val_loss: 0.3497 - val_accuracy: 0.8479\n",
            "Epoch 7/20\n",
            "1000/1000 [==============================] - 64s 64ms/step - loss: 0.3397 - accuracy: 0.8574 - val_loss: 0.3600 - val_accuracy: 0.8445\n",
            "Epoch 8/20\n",
            "1000/1000 [==============================] - 63s 63ms/step - loss: 0.3304 - accuracy: 0.8604 - val_loss: 0.3319 - val_accuracy: 0.8575\n",
            "Epoch 9/20\n",
            "1000/1000 [==============================] - 63s 63ms/step - loss: 0.3249 - accuracy: 0.8637 - val_loss: 0.3436 - val_accuracy: 0.8531\n",
            "Epoch 10/20\n",
            "1000/1000 [==============================] - 62s 62ms/step - loss: 0.3166 - accuracy: 0.8662 - val_loss: 0.3281 - val_accuracy: 0.8589\n",
            "Epoch 11/20\n",
            "1000/1000 [==============================] - 64s 64ms/step - loss: 0.3092 - accuracy: 0.8703 - val_loss: 0.3205 - val_accuracy: 0.8615\n",
            "Epoch 12/20\n",
            "1000/1000 [==============================] - 63s 63ms/step - loss: 0.3034 - accuracy: 0.8731 - val_loss: 0.3176 - val_accuracy: 0.8648\n",
            "Epoch 13/20\n",
            "1000/1000 [==============================] - 72s 72ms/step - loss: 0.2978 - accuracy: 0.8755 - val_loss: 0.3341 - val_accuracy: 0.8575\n",
            "Epoch 14/20\n",
            "1000/1000 [==============================] - 63s 63ms/step - loss: 0.2929 - accuracy: 0.8781 - val_loss: 0.3106 - val_accuracy: 0.8686\n",
            "Epoch 15/20\n",
            "1000/1000 [==============================] - 63s 63ms/step - loss: 0.2887 - accuracy: 0.8817 - val_loss: 0.3074 - val_accuracy: 0.8684\n",
            "Epoch 16/20\n",
            "1000/1000 [==============================] - 63s 63ms/step - loss: 0.2831 - accuracy: 0.8825 - val_loss: 0.3029 - val_accuracy: 0.8684\n",
            "Epoch 17/20\n",
            "1000/1000 [==============================] - 63s 63ms/step - loss: 0.2804 - accuracy: 0.8834 - val_loss: 0.3042 - val_accuracy: 0.8695\n",
            "Epoch 18/20\n",
            "1000/1000 [==============================] - 63s 63ms/step - loss: 0.2728 - accuracy: 0.8871 - val_loss: 0.3077 - val_accuracy: 0.8691\n",
            "Epoch 19/20\n",
            "1000/1000 [==============================] - 63s 63ms/step - loss: 0.2686 - accuracy: 0.8887 - val_loss: 0.3036 - val_accuracy: 0.8705\n",
            "Epoch 20/20\n",
            "1000/1000 [==============================] - 67s 67ms/step - loss: 5.2899 - accuracy: 0.8786 - val_loss: 0.3512 - val_accuracy: 0.8522\n"
          ]
        },
        {
          "output_type": "execute_result",
          "data": {
            "text/plain": [
              "<keras.src.callbacks.History at 0x79b72c4cb2b0>"
            ]
          },
          "metadata": {},
          "execution_count": 14
        }
      ]
    },
    {
      "cell_type": "code",
      "source": [
        "loss_shallow, accuracy_lstm_uni = model_lstm_uni.evaluate(X_test, y_test_numeric)\n",
        "print(f'LSTM Uniderictional Model- Accuracy: {accuracy_lstm_uni*100:.2f}%')"
      ],
      "metadata": {
        "colab": {
          "base_uri": "https://localhost:8080/"
        },
        "id": "cNOZAfyM2i7H",
        "outputId": "fb927ef0-482b-470c-9efc-2322dab56f99"
      },
      "execution_count": null,
      "outputs": [
        {
          "output_type": "stream",
          "name": "stdout",
          "text": [
            "313/313 [==============================] - 7s 21ms/step - loss: 0.3464 - accuracy: 0.8518\n",
            "LSTM Uniderictional Model- Accuracy: 85.18%\n"
          ]
        }
      ]
    },
    {
      "cell_type": "code",
      "source": [
        "from keras.layers import Bidirectional\n",
        "\n",
        "model_lstm_bi = Sequential()\n",
        "model_lstm_bi.add(Embedding(num_words, 100, input_length=max_length, weights=[embedding_matrix], trainable=False))\n",
        "model_lstm_bi.add(Bidirectional(LSTM(10, activation='relu')))\n",
        "model_lstm_bi.add(Dense(1, activation='sigmoid'))\n",
        "\n",
        "model_lstm_bi.compile(optimizer='adam', loss='binary_crossentropy', metrics=['accuracy'])\n",
        "model_lstm_bi.fit(X_train, y_train_numeric , epochs=20, batch_size=32,validation_split = 0.2)\n"
      ],
      "metadata": {
        "colab": {
          "base_uri": "https://localhost:8080/"
        },
        "id": "LL3UwqK8FX1z",
        "outputId": "151e33c6-19e1-4ac2-eb4d-f74f7e9c26b5"
      },
      "execution_count": null,
      "outputs": [
        {
          "output_type": "stream",
          "name": "stdout",
          "text": [
            "Epoch 1/20\n",
            "1000/1000 [==============================] - 105s 103ms/step - loss: 17.4169 - accuracy: 0.7497 - val_loss: 0.3926 - val_accuracy: 0.8276\n",
            "Epoch 2/20\n",
            "1000/1000 [==============================] - 108s 108ms/step - loss: 0.3866 - accuracy: 0.8295 - val_loss: 0.4042 - val_accuracy: 0.8201\n",
            "Epoch 3/20\n",
            "1000/1000 [==============================] - 106s 106ms/step - loss: 0.3547 - accuracy: 0.8456 - val_loss: 0.3456 - val_accuracy: 0.8503\n",
            "Epoch 4/20\n",
            "1000/1000 [==============================] - 103s 103ms/step - loss: 0.3376 - accuracy: 0.8531 - val_loss: 0.3365 - val_accuracy: 0.8541\n",
            "Epoch 5/20\n",
            "1000/1000 [==============================] - 105s 105ms/step - loss: 0.3236 - accuracy: 0.8608 - val_loss: 0.3369 - val_accuracy: 0.8569\n",
            "Epoch 6/20\n",
            "1000/1000 [==============================] - 105s 105ms/step - loss: 0.3145 - accuracy: 0.8662 - val_loss: 0.3194 - val_accuracy: 0.8618\n",
            "Epoch 7/20\n",
            "1000/1000 [==============================] - 109s 109ms/step - loss: 0.3057 - accuracy: 0.8701 - val_loss: 0.3119 - val_accuracy: 0.8650\n",
            "Epoch 8/20\n",
            "1000/1000 [==============================] - 105s 105ms/step - loss: 0.2984 - accuracy: 0.8729 - val_loss: 0.3098 - val_accuracy: 0.8671\n",
            "Epoch 9/20\n",
            "1000/1000 [==============================] - 105s 105ms/step - loss: 0.2922 - accuracy: 0.8777 - val_loss: 0.3070 - val_accuracy: 0.8685\n",
            "Epoch 10/20\n",
            "1000/1000 [==============================] - 106s 106ms/step - loss: 0.2848 - accuracy: 0.8802 - val_loss: 0.3122 - val_accuracy: 0.8649\n",
            "Epoch 11/20\n",
            "1000/1000 [==============================] - 109s 109ms/step - loss: 0.2785 - accuracy: 0.8837 - val_loss: 0.3439 - val_accuracy: 0.8508\n",
            "Epoch 12/20\n",
            "1000/1000 [==============================] - 106s 106ms/step - loss: 0.2752 - accuracy: 0.8832 - val_loss: 0.3037 - val_accuracy: 0.8675\n",
            "Epoch 13/20\n",
            "1000/1000 [==============================] - 108s 108ms/step - loss: 0.2710 - accuracy: 0.8868 - val_loss: 0.3107 - val_accuracy: 0.8669\n",
            "Epoch 14/20\n",
            "1000/1000 [==============================] - 106s 106ms/step - loss: 0.2659 - accuracy: 0.8883 - val_loss: 0.2979 - val_accuracy: 0.8731\n",
            "Epoch 15/20\n",
            "1000/1000 [==============================] - 109s 109ms/step - loss: 0.2630 - accuracy: 0.8895 - val_loss: 0.3023 - val_accuracy: 0.8721\n",
            "Epoch 16/20\n",
            "1000/1000 [==============================] - 113s 113ms/step - loss: 0.2585 - accuracy: 0.8928 - val_loss: 0.2960 - val_accuracy: 0.8734\n",
            "Epoch 17/20\n",
            "1000/1000 [==============================] - 109s 109ms/step - loss: 0.2534 - accuracy: 0.8938 - val_loss: 0.2982 - val_accuracy: 0.8702\n",
            "Epoch 18/20\n",
            "1000/1000 [==============================] - 105s 105ms/step - loss: 0.2519 - accuracy: 0.8947 - val_loss: 0.2991 - val_accuracy: 0.8711\n",
            "Epoch 19/20\n",
            "1000/1000 [==============================] - 108s 108ms/step - loss: 0.2489 - accuracy: 0.8956 - val_loss: 0.3509 - val_accuracy: 0.8546\n",
            "Epoch 20/20\n",
            "1000/1000 [==============================] - 106s 106ms/step - loss: 0.2447 - accuracy: 0.8984 - val_loss: 0.3088 - val_accuracy: 0.8686\n"
          ]
        },
        {
          "output_type": "execute_result",
          "data": {
            "text/plain": [
              "<keras.src.callbacks.History at 0x79b71c47f280>"
            ]
          },
          "metadata": {},
          "execution_count": 16
        }
      ]
    },
    {
      "cell_type": "code",
      "source": [
        "loss_shallow, accuracy_lstm_bi = model_lstm_bi.evaluate(X_test, y_test_numeric)\n",
        "print(f'LSTM Biderictional Model- Accuracy: {accuracy_lstm_bi*100:.2f}%')"
      ],
      "metadata": {
        "colab": {
          "base_uri": "https://localhost:8080/"
        },
        "id": "BFp82nVLP0Mr",
        "outputId": "5b4a706e-8674-4c9a-b100-4778fc7073a0"
      },
      "execution_count": null,
      "outputs": [
        {
          "output_type": "stream",
          "name": "stdout",
          "text": [
            "313/313 [==============================] - 11s 34ms/step - loss: 0.3104 - accuracy: 0.8674\n",
            "LSTM Biderictional Model- Accuracy: 86.74%\n"
          ]
        }
      ]
    },
    {
      "cell_type": "code",
      "source": [
        "import matplotlib.pyplot as plt\n",
        "x_axis = ['RNN', 'Unidirectional LSTM', 'Bidirectional LSTM']\n",
        "y_axis = [accuracy_shallow*100, accuracy_lstm_uni*100, accuracy_lstm_bi*100]\n",
        "\n",
        "plt.bar(x_axis, y_axis,color= 'red')\n",
        "plt.title('Bar Chart of IMDB Classification Models')\n",
        "plt.xlabel('Different Models')\n",
        "plt.ylabel('Accuracy Level(In percentage)')\n",
        "plt.show()"
      ],
      "metadata": {
        "colab": {
          "base_uri": "https://localhost:8080/",
          "height": 472
        },
        "id": "RdNbRnVtYJrr",
        "outputId": "3e545648-0f5e-415d-c9e9-25e79ba1a5f6"
      },
      "execution_count": null,
      "outputs": [
        {
          "output_type": "display_data",
          "data": {
            "text/plain": [
              "<Figure size 640x480 with 1 Axes>"
            ],
            "image/png": "[encoded data removed]"
          },
          "metadata": {}
        }
      ]
    }
  ]
}